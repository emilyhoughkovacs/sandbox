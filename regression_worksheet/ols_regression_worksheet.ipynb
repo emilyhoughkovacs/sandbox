{
 "cells": [
  {
   "cell_type": "code",
   "execution_count": 3,
   "metadata": {
    "collapsed": true
   },
   "outputs": [],
   "source": [
    "import pandas as pd\n",
    "import numpy as np"
   ]
  },
  {
   "cell_type": "code",
   "execution_count": 26,
   "metadata": {
    "collapsed": false
   },
   "outputs": [],
   "source": [
    "df = pd.DataFrame({'SVol': [25, 55, 50, 75, 110, 138, 90, 60, 10, 100], \n",
    "                           'Ing': [10, 18, 25, 40, 50, 63, 42, 30, 5, 55], \n",
    "                           'yi-y': [np.nan, np.nan, np.nan, 3.7, np.nan, np.nan, np.nan, np.nan, np.nan, 28.7], \n",
    "                           'xi-x': [-23.8, np.nan, np.nan, np.nan, np.nan, np.nan, np.nan, np.nan, np.nan, 21.2], \n",
    "                           'SSxy': [np.nan, 257.54, np.nan, np.nan, np.nan, np.nan, np.nan, np.nan, np.nan, 608.44], \n",
    "                           'SSxx': [566.44, np.nan, np.nan, np.nan, np.nan, np.nan, np.nan, np.nan, np.nan, 449.44],\n",
    "                           'Pred': [24.4, np.nan, np.nan, np.nan, np.nan, np.nan, np.nan, np.nan, np.nan, 113.05], \n",
    "                           'residual': [0.6, np.nan, np.nan, np.nan, np.nan, np.nan, np.nan, np.nan, np.nan, -13.05], \n",
    "                           'SSres': [0.36, np.nan, np.nan, np.nan, np.nan, np.nan, np.nan, np.nan, np.nan, 170.30], \n",
    "                           'SSexpl': [2199.61, np.nan, np.nan, np.nan, np.nan, np.nan, np.nan, np.nan, np.nan, 1743.06], \n",
    "                           'SSyy=SStot': [2143.69, np.nan, np.nan, np.nan, np.nan, np.nan, np.nan, np.nan, np.nan, 823.69]\n",
    "                           })"
   ]
  },
  {
   "cell_type": "code",
   "execution_count": 27,
   "metadata": {
    "collapsed": false
   },
   "outputs": [],
   "source": [
    "df = df[['SVol', 'Ing','yi-y','xi-x','SSxy','SSxx', 'Pred', 'residual','SSres', 'SSexpl','SSyy=SStot']]"
   ]
  },
  {
   "cell_type": "markdown",
   "metadata": {},
   "source": [
    "###Part 1"
   ]
  },
  {
   "cell_type": "markdown",
   "metadata": {},
   "source": [
    "####a) Compute x bar and y bar"
   ]
  },
  {
   "cell_type": "code",
   "execution_count": 34,
   "metadata": {
    "collapsed": false
   },
   "outputs": [],
   "source": [
    "x_bar = df['Ing'].mean()\n",
    "y_bar = df['SVol'].mean()"
   ]
  },
  {
   "cell_type": "code",
   "execution_count": 37,
   "metadata": {
    "collapsed": false
   },
   "outputs": [
    {
     "name": "stdout",
     "output_type": "stream",
     "text": [
      "x bar: 33.8\n",
      "y bar: 71.3\n"
     ]
    }
   ],
   "source": [
    "print \"x bar: \" + str(x_bar)\n",
    "print \"y bar: \" + str(y_bar)"
   ]
  },
  {
   "cell_type": "markdown",
   "metadata": {},
   "source": [
    "####b) Complete section 1 of Table 1 using xbar and ybar"
   ]
  },
  {
   "cell_type": "code",
   "execution_count": 38,
   "metadata": {
    "collapsed": false
   },
   "outputs": [
    {
     "data": {
      "text/plain": [
       "3.700000000000003"
      ]
     },
     "execution_count": 38,
     "metadata": {},
     "output_type": "execute_result"
    }
   ],
   "source": [
    "75 - y_bar"
   ]
  },
  {
   "cell_type": "code",
   "execution_count": 39,
   "metadata": {
    "collapsed": true
   },
   "outputs": [],
   "source": [
    "df['yi-y'] = df['SVol'] - y_bar"
   ]
  },
  {
   "cell_type": "code",
   "execution_count": 41,
   "metadata": {
    "collapsed": false
   },
   "outputs": [],
   "source": [
    "df['xi-x'] = df['Ing'] - x_bar"
   ]
  },
  {
   "cell_type": "code",
   "execution_count": 42,
   "metadata": {
    "collapsed": true
   },
   "outputs": [],
   "source": [
    "df['SSxy'] = df['yi-y']*df['xi-x']\n",
    "df['SSxx'] = df['xi-x']**2"
   ]
  },
  {
   "cell_type": "code",
   "execution_count": 43,
   "metadata": {
    "collapsed": false
   },
   "outputs": [
    {
     "data": {
      "text/html": [
       "<div>\n",
       "<table border=\"1\" class=\"dataframe\">\n",
       "  <thead>\n",
       "    <tr style=\"text-align: right;\">\n",
       "      <th></th>\n",
       "      <th>SVol</th>\n",
       "      <th>Ing</th>\n",
       "      <th>yi-y</th>\n",
       "      <th>xi-x</th>\n",
       "      <th>SSxy</th>\n",
       "      <th>SSxx</th>\n",
       "      <th>Pred</th>\n",
       "      <th>residual</th>\n",
       "      <th>SSres</th>\n",
       "      <th>SSexpl</th>\n",
       "      <th>SSyy=SStot</th>\n",
       "    </tr>\n",
       "  </thead>\n",
       "  <tbody>\n",
       "    <tr>\n",
       "      <th>0</th>\n",
       "      <td>25</td>\n",
       "      <td>10</td>\n",
       "      <td>-46.3</td>\n",
       "      <td>-23.8</td>\n",
       "      <td>1101.94</td>\n",
       "      <td>566.44</td>\n",
       "      <td>24.40</td>\n",
       "      <td>0.60</td>\n",
       "      <td>0.36</td>\n",
       "      <td>2199.61</td>\n",
       "      <td>2143.69</td>\n",
       "    </tr>\n",
       "    <tr>\n",
       "      <th>1</th>\n",
       "      <td>55</td>\n",
       "      <td>18</td>\n",
       "      <td>-16.3</td>\n",
       "      <td>-15.8</td>\n",
       "      <td>257.54</td>\n",
       "      <td>249.64</td>\n",
       "      <td>NaN</td>\n",
       "      <td>NaN</td>\n",
       "      <td>NaN</td>\n",
       "      <td>NaN</td>\n",
       "      <td>NaN</td>\n",
       "    </tr>\n",
       "    <tr>\n",
       "      <th>2</th>\n",
       "      <td>50</td>\n",
       "      <td>25</td>\n",
       "      <td>-21.3</td>\n",
       "      <td>-8.8</td>\n",
       "      <td>187.44</td>\n",
       "      <td>77.44</td>\n",
       "      <td>NaN</td>\n",
       "      <td>NaN</td>\n",
       "      <td>NaN</td>\n",
       "      <td>NaN</td>\n",
       "      <td>NaN</td>\n",
       "    </tr>\n",
       "    <tr>\n",
       "      <th>3</th>\n",
       "      <td>75</td>\n",
       "      <td>40</td>\n",
       "      <td>3.7</td>\n",
       "      <td>6.2</td>\n",
       "      <td>22.94</td>\n",
       "      <td>38.44</td>\n",
       "      <td>NaN</td>\n",
       "      <td>NaN</td>\n",
       "      <td>NaN</td>\n",
       "      <td>NaN</td>\n",
       "      <td>NaN</td>\n",
       "    </tr>\n",
       "    <tr>\n",
       "      <th>4</th>\n",
       "      <td>110</td>\n",
       "      <td>50</td>\n",
       "      <td>38.7</td>\n",
       "      <td>16.2</td>\n",
       "      <td>626.94</td>\n",
       "      <td>262.44</td>\n",
       "      <td>NaN</td>\n",
       "      <td>NaN</td>\n",
       "      <td>NaN</td>\n",
       "      <td>NaN</td>\n",
       "      <td>NaN</td>\n",
       "    </tr>\n",
       "    <tr>\n",
       "      <th>5</th>\n",
       "      <td>138</td>\n",
       "      <td>63</td>\n",
       "      <td>66.7</td>\n",
       "      <td>29.2</td>\n",
       "      <td>1947.64</td>\n",
       "      <td>852.64</td>\n",
       "      <td>NaN</td>\n",
       "      <td>NaN</td>\n",
       "      <td>NaN</td>\n",
       "      <td>NaN</td>\n",
       "      <td>NaN</td>\n",
       "    </tr>\n",
       "    <tr>\n",
       "      <th>6</th>\n",
       "      <td>90</td>\n",
       "      <td>42</td>\n",
       "      <td>18.7</td>\n",
       "      <td>8.2</td>\n",
       "      <td>153.34</td>\n",
       "      <td>67.24</td>\n",
       "      <td>NaN</td>\n",
       "      <td>NaN</td>\n",
       "      <td>NaN</td>\n",
       "      <td>NaN</td>\n",
       "      <td>NaN</td>\n",
       "    </tr>\n",
       "    <tr>\n",
       "      <th>7</th>\n",
       "      <td>60</td>\n",
       "      <td>30</td>\n",
       "      <td>-11.3</td>\n",
       "      <td>-3.8</td>\n",
       "      <td>42.94</td>\n",
       "      <td>14.44</td>\n",
       "      <td>NaN</td>\n",
       "      <td>NaN</td>\n",
       "      <td>NaN</td>\n",
       "      <td>NaN</td>\n",
       "      <td>NaN</td>\n",
       "    </tr>\n",
       "    <tr>\n",
       "      <th>8</th>\n",
       "      <td>10</td>\n",
       "      <td>5</td>\n",
       "      <td>-61.3</td>\n",
       "      <td>-28.8</td>\n",
       "      <td>1765.44</td>\n",
       "      <td>829.44</td>\n",
       "      <td>NaN</td>\n",
       "      <td>NaN</td>\n",
       "      <td>NaN</td>\n",
       "      <td>NaN</td>\n",
       "      <td>NaN</td>\n",
       "    </tr>\n",
       "    <tr>\n",
       "      <th>9</th>\n",
       "      <td>100</td>\n",
       "      <td>55</td>\n",
       "      <td>28.7</td>\n",
       "      <td>21.2</td>\n",
       "      <td>608.44</td>\n",
       "      <td>449.44</td>\n",
       "      <td>113.05</td>\n",
       "      <td>-13.05</td>\n",
       "      <td>170.30</td>\n",
       "      <td>1743.06</td>\n",
       "      <td>823.69</td>\n",
       "    </tr>\n",
       "  </tbody>\n",
       "</table>\n",
       "</div>"
      ],
      "text/plain": [
       "   SVol  Ing  yi-y  xi-x     SSxy    SSxx    Pred  residual   SSres   SSexpl  \\\n",
       "0    25   10 -46.3 -23.8  1101.94  566.44   24.40      0.60    0.36  2199.61   \n",
       "1    55   18 -16.3 -15.8   257.54  249.64     NaN       NaN     NaN      NaN   \n",
       "2    50   25 -21.3  -8.8   187.44   77.44     NaN       NaN     NaN      NaN   \n",
       "3    75   40   3.7   6.2    22.94   38.44     NaN       NaN     NaN      NaN   \n",
       "4   110   50  38.7  16.2   626.94  262.44     NaN       NaN     NaN      NaN   \n",
       "5   138   63  66.7  29.2  1947.64  852.64     NaN       NaN     NaN      NaN   \n",
       "6    90   42  18.7   8.2   153.34   67.24     NaN       NaN     NaN      NaN   \n",
       "7    60   30 -11.3  -3.8    42.94   14.44     NaN       NaN     NaN      NaN   \n",
       "8    10    5 -61.3 -28.8  1765.44  829.44     NaN       NaN     NaN      NaN   \n",
       "9   100   55  28.7  21.2   608.44  449.44  113.05    -13.05  170.30  1743.06   \n",
       "\n",
       "   SSyy=SStot  \n",
       "0     2143.69  \n",
       "1         NaN  \n",
       "2         NaN  \n",
       "3         NaN  \n",
       "4         NaN  \n",
       "5         NaN  \n",
       "6         NaN  \n",
       "7         NaN  \n",
       "8         NaN  \n",
       "9      823.69  "
      ]
     },
     "execution_count": 43,
     "metadata": {},
     "output_type": "execute_result"
    }
   ],
   "source": [
    "df"
   ]
  },
  {
   "cell_type": "markdown",
   "metadata": {},
   "source": [
    "####d) confirm the following by filling in the table (some crazy summation)"
   ]
  },
  {
   "cell_type": "code",
   "execution_count": 45,
   "metadata": {
    "collapsed": false
   },
   "outputs": [
    {
     "name": "stdout",
     "output_type": "stream",
     "text": [
      "sum_ssxy: 6714.6\n",
      "sum_ssxx: 3407.6\n"
     ]
    }
   ],
   "source": [
    "sum_ssxy = df['SSxy'].sum()\n",
    "sum_ssxx = df['SSxx'].sum()\n",
    "print \"sum_ssxy: \" + str(sum_ssxy)\n",
    "print \"sum_ssxx: \" + str(sum_ssxx)"
   ]
  },
  {
   "cell_type": "markdown",
   "metadata": {},
   "source": [
    "####d) Confirm the following computation of the regression coefficients: beta1 = 1.97, beta0 = 4.70"
   ]
  },
  {
   "cell_type": "code",
   "execution_count": 46,
   "metadata": {
    "collapsed": false
   },
   "outputs": [
    {
     "name": "stdout",
     "output_type": "stream",
     "text": [
      "beta1: 1.97047775561\n"
     ]
    }
   ],
   "source": [
    "beta1 = sum_ssxy/sum_ssxx\n",
    "print \"beta1: \" + str(beta1)"
   ]
  },
  {
   "cell_type": "code",
   "execution_count": 48,
   "metadata": {
    "collapsed": false
   },
   "outputs": [],
   "source": [
    "beta0 = y_bar - beta1 * x_bar"
   ]
  },
  {
   "cell_type": "code",
   "execution_count": 49,
   "metadata": {
    "collapsed": false
   },
   "outputs": [
    {
     "name": "stdout",
     "output_type": "stream",
     "text": [
      "beta0: 4.69785186055\n"
     ]
    }
   ],
   "source": [
    "print \"beta0: \" + str(beta0)"
   ]
  },
  {
   "cell_type": "markdown",
   "metadata": {},
   "source": [
    "####e) write out the regression line:"
   ]
  },
  {
   "cell_type": "raw",
   "metadata": {},
   "source": [
    "y = 1.97x + 4.70"
   ]
  },
  {
   "cell_type": "markdown",
   "metadata": {},
   "source": [
    "###Part 2"
   ]
  },
  {
   "cell_type": "markdown",
   "metadata": {},
   "source": [
    "####a) compute y-hat"
   ]
  },
  {
   "cell_type": "code",
   "execution_count": 50,
   "metadata": {
    "collapsed": true
   },
   "outputs": [],
   "source": [
    "df['Pred'] = beta1*df['Ing']+beta0"
   ]
  },
  {
   "cell_type": "markdown",
   "metadata": {},
   "source": [
    "####b) compute residual"
   ]
  },
  {
   "cell_type": "code",
   "execution_count": 52,
   "metadata": {
    "collapsed": true
   },
   "outputs": [],
   "source": [
    "df['residual'] = df['SVol'] - df['Pred']"
   ]
  },
  {
   "cell_type": "markdown",
   "metadata": {},
   "source": [
    "####c) compute SSres which is Residual Sum of Squares. aka SSe, Error Sum of Squares"
   ]
  },
  {
   "cell_type": "code",
   "execution_count": 53,
   "metadata": {
    "collapsed": true
   },
   "outputs": [],
   "source": [
    "df['SSres'] = df['residual']**2"
   ]
  },
  {
   "cell_type": "markdown",
   "metadata": {},
   "source": [
    "####d) Compute SSexpl (Explained Sum of Squares or SSreg, Regression Sum of Squares)"
   ]
  },
  {
   "cell_type": "code",
   "execution_count": 54,
   "metadata": {
    "collapsed": true
   },
   "outputs": [],
   "source": [
    "df['SSexpl'] = (df['Pred'] - y_bar)**2"
   ]
  },
  {
   "cell_type": "markdown",
   "metadata": {},
   "source": [
    "####e) Compute SSyy (SStot), Total Sum of Squares"
   ]
  },
  {
   "cell_type": "code",
   "execution_count": 55,
   "metadata": {
    "collapsed": true
   },
   "outputs": [],
   "source": [
    "df['SSyy=SStot'] = (df['SVol'] - y_bar)**2"
   ]
  },
  {
   "cell_type": "code",
   "execution_count": 58,
   "metadata": {
    "collapsed": false
   },
   "outputs": [],
   "source": [
    "R2 = df['SSexpl']/df['SSyy=SStot']"
   ]
  },
  {
   "cell_type": "code",
   "execution_count": 59,
   "metadata": {
    "collapsed": false
   },
   "outputs": [
    {
     "data": {
      "text/plain": [
       "0     1.025971\n",
       "1     3.648229\n",
       "2     0.662749\n",
       "3    10.902422\n",
       "4     0.680379\n",
       "5     0.744144\n",
       "6     0.746599\n",
       "7     0.439090\n",
       "8     0.857052\n",
       "9     2.118610\n",
       "dtype: float64"
      ]
     },
     "execution_count": 59,
     "metadata": {},
     "output_type": "execute_result"
    }
   ],
   "source": [
    "R2"
   ]
  },
  {
   "cell_type": "code",
   "execution_count": 60,
   "metadata": {
    "collapsed": false
   },
   "outputs": [
    {
     "data": {
      "text/html": [
       "<div>\n",
       "<table border=\"1\" class=\"dataframe\">\n",
       "  <thead>\n",
       "    <tr style=\"text-align: right;\">\n",
       "      <th></th>\n",
       "      <th>SVol</th>\n",
       "      <th>Ing</th>\n",
       "      <th>yi-y</th>\n",
       "      <th>xi-x</th>\n",
       "      <th>SSxy</th>\n",
       "      <th>SSxx</th>\n",
       "      <th>Pred</th>\n",
       "      <th>residual</th>\n",
       "      <th>SSres</th>\n",
       "      <th>SSexpl</th>\n",
       "      <th>SSyy=SStot</th>\n",
       "    </tr>\n",
       "  </thead>\n",
       "  <tbody>\n",
       "    <tr>\n",
       "      <th>0</th>\n",
       "      <td>25</td>\n",
       "      <td>10</td>\n",
       "      <td>-46.3</td>\n",
       "      <td>-23.8</td>\n",
       "      <td>1101.94</td>\n",
       "      <td>566.44</td>\n",
       "      <td>24.402629</td>\n",
       "      <td>0.597371</td>\n",
       "      <td>0.356852</td>\n",
       "      <td>2199.363368</td>\n",
       "      <td>2143.69</td>\n",
       "    </tr>\n",
       "    <tr>\n",
       "      <th>1</th>\n",
       "      <td>55</td>\n",
       "      <td>18</td>\n",
       "      <td>-16.3</td>\n",
       "      <td>-15.8</td>\n",
       "      <td>257.54</td>\n",
       "      <td>249.64</td>\n",
       "      <td>40.166451</td>\n",
       "      <td>14.833549</td>\n",
       "      <td>220.034162</td>\n",
       "      <td>969.297845</td>\n",
       "      <td>265.69</td>\n",
       "    </tr>\n",
       "    <tr>\n",
       "      <th>2</th>\n",
       "      <td>50</td>\n",
       "      <td>25</td>\n",
       "      <td>-21.3</td>\n",
       "      <td>-8.8</td>\n",
       "      <td>187.44</td>\n",
       "      <td>77.44</td>\n",
       "      <td>53.959796</td>\n",
       "      <td>-3.959796</td>\n",
       "      <td>15.679982</td>\n",
       "      <td>300.682683</td>\n",
       "      <td>453.69</td>\n",
       "    </tr>\n",
       "    <tr>\n",
       "      <th>3</th>\n",
       "      <td>75</td>\n",
       "      <td>40</td>\n",
       "      <td>3.7</td>\n",
       "      <td>6.2</td>\n",
       "      <td>22.94</td>\n",
       "      <td>38.44</td>\n",
       "      <td>83.516962</td>\n",
       "      <td>-8.516962</td>\n",
       "      <td>72.538643</td>\n",
       "      <td>149.254163</td>\n",
       "      <td>13.69</td>\n",
       "    </tr>\n",
       "    <tr>\n",
       "      <th>4</th>\n",
       "      <td>110</td>\n",
       "      <td>50</td>\n",
       "      <td>38.7</td>\n",
       "      <td>16.2</td>\n",
       "      <td>626.94</td>\n",
       "      <td>262.44</td>\n",
       "      <td>103.221740</td>\n",
       "      <td>6.778260</td>\n",
       "      <td>45.944813</td>\n",
       "      <td>1018.997462</td>\n",
       "      <td>1497.69</td>\n",
       "    </tr>\n",
       "    <tr>\n",
       "      <th>5</th>\n",
       "      <td>138</td>\n",
       "      <td>63</td>\n",
       "      <td>66.7</td>\n",
       "      <td>29.2</td>\n",
       "      <td>1947.64</td>\n",
       "      <td>852.64</td>\n",
       "      <td>128.837950</td>\n",
       "      <td>9.162050</td>\n",
       "      <td>83.943152</td>\n",
       "      <td>3310.615744</td>\n",
       "      <td>4448.89</td>\n",
       "    </tr>\n",
       "    <tr>\n",
       "      <th>6</th>\n",
       "      <td>90</td>\n",
       "      <td>42</td>\n",
       "      <td>18.7</td>\n",
       "      <td>8.2</td>\n",
       "      <td>153.34</td>\n",
       "      <td>67.24</td>\n",
       "      <td>87.457918</td>\n",
       "      <td>2.542082</td>\n",
       "      <td>6.462183</td>\n",
       "      <td>261.078301</td>\n",
       "      <td>349.69</td>\n",
       "    </tr>\n",
       "    <tr>\n",
       "      <th>7</th>\n",
       "      <td>60</td>\n",
       "      <td>30</td>\n",
       "      <td>-11.3</td>\n",
       "      <td>-3.8</td>\n",
       "      <td>42.94</td>\n",
       "      <td>14.44</td>\n",
       "      <td>63.812185</td>\n",
       "      <td>-3.812185</td>\n",
       "      <td>14.532751</td>\n",
       "      <td>56.067381</td>\n",
       "      <td>127.69</td>\n",
       "    </tr>\n",
       "    <tr>\n",
       "      <th>8</th>\n",
       "      <td>10</td>\n",
       "      <td>5</td>\n",
       "      <td>-61.3</td>\n",
       "      <td>-28.8</td>\n",
       "      <td>1765.44</td>\n",
       "      <td>829.44</td>\n",
       "      <td>14.550241</td>\n",
       "      <td>-4.550241</td>\n",
       "      <td>20.704690</td>\n",
       "      <td>3220.535188</td>\n",
       "      <td>3757.69</td>\n",
       "    </tr>\n",
       "    <tr>\n",
       "      <th>9</th>\n",
       "      <td>100</td>\n",
       "      <td>55</td>\n",
       "      <td>28.7</td>\n",
       "      <td>21.2</td>\n",
       "      <td>608.44</td>\n",
       "      <td>449.44</td>\n",
       "      <td>113.074128</td>\n",
       "      <td>-13.074128</td>\n",
       "      <td>170.932834</td>\n",
       "      <td>1745.077805</td>\n",
       "      <td>823.69</td>\n",
       "    </tr>\n",
       "  </tbody>\n",
       "</table>\n",
       "</div>"
      ],
      "text/plain": [
       "   SVol  Ing  yi-y  xi-x     SSxy    SSxx        Pred   residual       SSres  \\\n",
       "0    25   10 -46.3 -23.8  1101.94  566.44   24.402629   0.597371    0.356852   \n",
       "1    55   18 -16.3 -15.8   257.54  249.64   40.166451  14.833549  220.034162   \n",
       "2    50   25 -21.3  -8.8   187.44   77.44   53.959796  -3.959796   15.679982   \n",
       "3    75   40   3.7   6.2    22.94   38.44   83.516962  -8.516962   72.538643   \n",
       "4   110   50  38.7  16.2   626.94  262.44  103.221740   6.778260   45.944813   \n",
       "5   138   63  66.7  29.2  1947.64  852.64  128.837950   9.162050   83.943152   \n",
       "6    90   42  18.7   8.2   153.34   67.24   87.457918   2.542082    6.462183   \n",
       "7    60   30 -11.3  -3.8    42.94   14.44   63.812185  -3.812185   14.532751   \n",
       "8    10    5 -61.3 -28.8  1765.44  829.44   14.550241  -4.550241   20.704690   \n",
       "9   100   55  28.7  21.2   608.44  449.44  113.074128 -13.074128  170.932834   \n",
       "\n",
       "        SSexpl  SSyy=SStot  \n",
       "0  2199.363368     2143.69  \n",
       "1   969.297845      265.69  \n",
       "2   300.682683      453.69  \n",
       "3   149.254163       13.69  \n",
       "4  1018.997462     1497.69  \n",
       "5  3310.615744     4448.89  \n",
       "6   261.078301      349.69  \n",
       "7    56.067381      127.69  \n",
       "8  3220.535188     3757.69  \n",
       "9  1745.077805      823.69  "
      ]
     },
     "execution_count": 60,
     "metadata": {},
     "output_type": "execute_result"
    }
   ],
   "source": [
    "df"
   ]
  },
  {
   "cell_type": "code",
   "execution_count": 61,
   "metadata": {
    "collapsed": false
   },
   "outputs": [
    {
     "name": "stdout",
     "output_type": "stream",
     "text": [
      "1388.21\n"
     ]
    }
   ],
   "source": [
    "print df['SSyy=SStot'].mean()"
   ]
  },
  {
   "cell_type": "code",
   "execution_count": 62,
   "metadata": {
    "collapsed": true
   },
   "outputs": [],
   "source": [
    "r2 = df['SSexpl'].mean()/df['SSyy=SStot'].mean()"
   ]
  },
  {
   "cell_type": "code",
   "execution_count": 63,
   "metadata": {
    "collapsed": false
   },
   "outputs": [
    {
     "data": {
      "text/plain": [
       "0.9530957087030151"
      ]
     },
     "execution_count": 63,
     "metadata": {},
     "output_type": "execute_result"
    }
   ],
   "source": [
    "r2"
   ]
  },
  {
   "cell_type": "markdown",
   "metadata": {},
   "source": [
    "###Part 3: Compute F statistic and perform hypothesis test"
   ]
  },
  {
   "cell_type": "markdown",
   "metadata": {},
   "source": [
    "####a) State the null and alternative hypothesis"
   ]
  },
  {
   "cell_type": "raw",
   "metadata": {},
   "source": [
    "H0: beta1 = 0\n",
    "H1: beta1 != 0"
   ]
  },
  {
   "cell_type": "markdown",
   "metadata": {},
   "source": [
    "####b) Compute the degrees of freedom"
   ]
  },
  {
   "cell_type": "code",
   "execution_count": 64,
   "metadata": {
    "collapsed": true
   },
   "outputs": [],
   "source": [
    "n = 10\n",
    "p = 2"
   ]
  },
  {
   "cell_type": "code",
   "execution_count": 65,
   "metadata": {
    "collapsed": true
   },
   "outputs": [],
   "source": [
    "df_expl = p-1\n",
    "df_res = n-p"
   ]
  },
  {
   "cell_type": "markdown",
   "metadata": {},
   "source": [
    "####c) Compute the F test statistic"
   ]
  },
  {
   "cell_type": "code",
   "execution_count": null,
   "metadata": {
    "collapsed": true
   },
   "outputs": [],
   "source": []
  }
 ],
 "metadata": {
  "kernelspec": {
   "display_name": "Python 2",
   "language": "python",
   "name": "python2"
  },
  "language_info": {
   "codemirror_mode": {
    "name": "ipython",
    "version": 2
   },
   "file_extension": ".py",
   "mimetype": "text/x-python",
   "name": "python",
   "nbconvert_exporter": "python",
   "pygments_lexer": "ipython2",
   "version": "2.7.10"
  }
 },
 "nbformat": 4,
 "nbformat_minor": 0
}
