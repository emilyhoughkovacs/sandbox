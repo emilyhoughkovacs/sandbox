{
 "cells": [
  {
   "cell_type": "markdown",
   "metadata": {},
   "source": [
    "#Regression Worksheet"
   ]
  },
  {
   "cell_type": "markdown",
   "metadata": {},
   "source": [
    "Emily Hough-Kovacs"
   ]
  },
  {
   "cell_type": "markdown",
   "metadata": {},
   "source": [
    "#### Reshama: this took me approximately 3 hours but I started it like a week ago and finished it tonight while watching tv. I think if I sat down and had to do it in one class I could (barely) finish it in 90 minutes, with no other distractions."
   ]
  },
  {
   "cell_type": "code",
   "execution_count": 75,
   "metadata": {
    "collapsed": true
   },
   "outputs": [],
   "source": [
    "import pandas as pd\n",
    "import numpy as np"
   ]
  },
  {
   "cell_type": "code",
   "execution_count": 76,
   "metadata": {
    "collapsed": false
   },
   "outputs": [],
   "source": [
    "df = pd.DataFrame({'SVol': [25, 55, 50, 75, 110, 138, 90, 60, 10, 100], \n",
    "                           'Ing': [10, 18, 25, 40, 50, 63, 42, 30, 5, 55], \n",
    "                           'yi-y': [np.nan, np.nan, np.nan, 3.7, np.nan, np.nan, np.nan, np.nan, np.nan, 28.7], \n",
    "                           'xi-x': [-23.8, np.nan, np.nan, np.nan, np.nan, np.nan, np.nan, np.nan, np.nan, 21.2], \n",
    "                           'SSxy': [np.nan, 257.54, np.nan, np.nan, np.nan, np.nan, np.nan, np.nan, np.nan, 608.44], \n",
    "                           'SSxx': [566.44, np.nan, np.nan, np.nan, np.nan, np.nan, np.nan, np.nan, np.nan, 449.44],\n",
    "                           'Pred': [24.4, np.nan, np.nan, np.nan, np.nan, np.nan, np.nan, np.nan, np.nan, 113.05], \n",
    "                           'residual': [0.6, np.nan, np.nan, np.nan, np.nan, np.nan, np.nan, np.nan, np.nan, -13.05], \n",
    "                           'SSres': [0.36, np.nan, np.nan, np.nan, np.nan, np.nan, np.nan, np.nan, np.nan, 170.30], \n",
    "                           'SSexpl': [2199.61, np.nan, np.nan, np.nan, np.nan, np.nan, np.nan, np.nan, np.nan, 1743.06], \n",
    "                           'SSyy=SStot': [2143.69, np.nan, np.nan, np.nan, np.nan, np.nan, np.nan, np.nan, np.nan, 823.69]\n",
    "                           })"
   ]
  },
  {
   "cell_type": "code",
   "execution_count": 77,
   "metadata": {
    "collapsed": false
   },
   "outputs": [],
   "source": [
    "df = df[['SVol', 'Ing','yi-y','xi-x','SSxy','SSxx', 'Pred', 'residual','SSres', 'SSexpl','SSyy=SStot']]"
   ]
  },
  {
   "cell_type": "markdown",
   "metadata": {},
   "source": [
    "###Part 1"
   ]
  },
  {
   "cell_type": "markdown",
   "metadata": {},
   "source": [
    "####a) Compute x bar and y bar"
   ]
  },
  {
   "cell_type": "code",
   "execution_count": 78,
   "metadata": {
    "collapsed": false
   },
   "outputs": [],
   "source": [
    "x_bar = df['Ing'].mean()\n",
    "y_bar = df['SVol'].mean()"
   ]
  },
  {
   "cell_type": "code",
   "execution_count": 79,
   "metadata": {
    "collapsed": false
   },
   "outputs": [
    {
     "name": "stdout",
     "output_type": "stream",
     "text": [
      "x bar: 33.8\n",
      "y bar: 71.3\n"
     ]
    }
   ],
   "source": [
    "print \"x bar: \" + str(x_bar)\n",
    "print \"y bar: \" + str(y_bar)"
   ]
  },
  {
   "cell_type": "markdown",
   "metadata": {},
   "source": [
    "####b) Complete section 1 of Table 1 using xbar and ybar"
   ]
  },
  {
   "cell_type": "code",
   "execution_count": 80,
   "metadata": {
    "collapsed": false
   },
   "outputs": [
    {
     "data": {
      "text/plain": [
       "3.700000000000003"
      ]
     },
     "execution_count": 80,
     "metadata": {},
     "output_type": "execute_result"
    }
   ],
   "source": [
    "75 - y_bar"
   ]
  },
  {
   "cell_type": "code",
   "execution_count": 81,
   "metadata": {
    "collapsed": true
   },
   "outputs": [],
   "source": [
    "df['yi-y'] = df['SVol'] - y_bar"
   ]
  },
  {
   "cell_type": "code",
   "execution_count": 82,
   "metadata": {
    "collapsed": false
   },
   "outputs": [],
   "source": [
    "df['xi-x'] = df['Ing'] - x_bar"
   ]
  },
  {
   "cell_type": "code",
   "execution_count": 83,
   "metadata": {
    "collapsed": true
   },
   "outputs": [],
   "source": [
    "df['SSxy'] = df['yi-y']*df['xi-x']\n",
    "df['SSxx'] = df['xi-x']**2"
   ]
  },
  {
   "cell_type": "code",
   "execution_count": null,
   "metadata": {
    "collapsed": false
   },
   "outputs": [
    {
     "data": {
      "text/html": [
       "<div>\n",
       "<table border=\"1\" class=\"dataframe\">\n",
       "  <thead>\n",
       "    <tr style=\"text-align: right;\">\n",
       "      <th></th>\n",
       "      <th>SVol</th>\n",
       "      <th>Ing</th>\n",
       "      <th>yi-y</th>\n",
       "      <th>xi-x</th>\n",
       "      <th>SSxy</th>\n",
       "      <th>SSxx</th>\n",
       "      <th>Pred</th>\n",
       "      <th>residual</th>\n",
       "      <th>SSres</th>\n",
       "      <th>SSexpl</th>\n",
       "      <th>SSyy=SStot</th>\n",
       "    </tr>\n",
       "  </thead>\n",
       "  <tbody>\n",
       "    <tr>\n",
       "      <th>0</th>\n",
       "      <td>25</td>\n",
       "      <td>10</td>\n",
       "      <td>-46.3</td>\n",
       "      <td>-23.8</td>\n",
       "      <td>1101.94</td>\n",
       "      <td>566.44</td>\n",
       "      <td>24.40</td>\n",
       "      <td>0.60</td>\n",
       "      <td>0.36</td>\n",
       "      <td>2199.61</td>\n",
       "      <td>2143.69</td>\n",
       "    </tr>\n",
       "    <tr>\n",
       "      <th>1</th>\n",
       "      <td>55</td>\n",
       "      <td>18</td>\n",
       "      <td>-16.3</td>\n",
       "      <td>-15.8</td>\n",
       "      <td>257.54</td>\n",
       "      <td>249.64</td>\n",
       "      <td>NaN</td>\n",
       "      <td>NaN</td>\n",
       "      <td>NaN</td>\n",
       "      <td>NaN</td>\n",
       "      <td>NaN</td>\n",
       "    </tr>\n",
       "    <tr>\n",
       "      <th>2</th>\n",
       "      <td>50</td>\n",
       "      <td>25</td>\n",
       "      <td>-21.3</td>\n",
       "      <td>-8.8</td>\n",
       "      <td>187.44</td>\n",
       "      <td>77.44</td>\n",
       "      <td>NaN</td>\n",
       "      <td>NaN</td>\n",
       "      <td>NaN</td>\n",
       "      <td>NaN</td>\n",
       "      <td>NaN</td>\n",
       "    </tr>\n",
       "    <tr>\n",
       "      <th>3</th>\n",
       "      <td>75</td>\n",
       "      <td>40</td>\n",
       "      <td>3.7</td>\n",
       "      <td>6.2</td>\n",
       "      <td>22.94</td>\n",
       "      <td>38.44</td>\n",
       "      <td>NaN</td>\n",
       "      <td>NaN</td>\n",
       "      <td>NaN</td>\n",
       "      <td>NaN</td>\n",
       "      <td>NaN</td>\n",
       "    </tr>\n",
       "    <tr>\n",
       "      <th>4</th>\n",
       "      <td>110</td>\n",
       "      <td>50</td>\n",
       "      <td>38.7</td>\n",
       "      <td>16.2</td>\n",
       "      <td>626.94</td>\n",
       "      <td>262.44</td>\n",
       "      <td>NaN</td>\n",
       "      <td>NaN</td>\n",
       "      <td>NaN</td>\n",
       "      <td>NaN</td>\n",
       "      <td>NaN</td>\n",
       "    </tr>\n",
       "    <tr>\n",
       "      <th>5</th>\n",
       "      <td>138</td>\n",
       "      <td>63</td>\n",
       "      <td>66.7</td>\n",
       "      <td>29.2</td>\n",
       "      <td>1947.64</td>\n",
       "      <td>852.64</td>\n",
       "      <td>NaN</td>\n",
       "      <td>NaN</td>\n",
       "      <td>NaN</td>\n",
       "      <td>NaN</td>\n",
       "      <td>NaN</td>\n",
       "    </tr>\n",
       "    <tr>\n",
       "      <th>6</th>\n",
       "      <td>90</td>\n",
       "      <td>42</td>\n",
       "      <td>18.7</td>\n",
       "      <td>8.2</td>\n",
       "      <td>153.34</td>\n",
       "      <td>67.24</td>\n",
       "      <td>NaN</td>\n",
       "      <td>NaN</td>\n",
       "      <td>NaN</td>\n",
       "      <td>NaN</td>\n",
       "      <td>NaN</td>\n",
       "    </tr>\n",
       "    <tr>\n",
       "      <th>7</th>\n",
       "      <td>60</td>\n",
       "      <td>30</td>\n",
       "      <td>-11.3</td>\n",
       "      <td>-3.8</td>\n",
       "      <td>42.94</td>\n",
       "      <td>14.44</td>\n",
       "      <td>NaN</td>\n",
       "      <td>NaN</td>\n",
       "      <td>NaN</td>\n",
       "      <td>NaN</td>\n",
       "      <td>NaN</td>\n",
       "    </tr>\n",
       "    <tr>\n",
       "      <th>8</th>\n",
       "      <td>10</td>\n",
       "      <td>5</td>\n",
       "      <td>-61.3</td>\n",
       "      <td>-28.8</td>\n",
       "      <td>1765.44</td>\n",
       "      <td>829.44</td>\n",
       "      <td>NaN</td>\n",
       "      <td>NaN</td>\n",
       "      <td>NaN</td>\n",
       "      <td>NaN</td>\n",
       "      <td>NaN</td>\n",
       "    </tr>\n",
       "    <tr>\n",
       "      <th>9</th>\n",
       "      <td>100</td>\n",
       "      <td>55</td>\n",
       "      <td>28.7</td>\n",
       "      <td>21.2</td>\n",
       "      <td>608.44</td>\n",
       "      <td>449.44</td>\n",
       "      <td>113.05</td>\n",
       "      <td>-13.05</td>\n",
       "      <td>170.30</td>\n",
       "      <td>1743.06</td>\n",
       "      <td>823.69</td>\n",
       "    </tr>\n",
       "  </tbody>\n",
       "</table>\n",
       "</div>"
      ],
      "text/plain": [
       "   SVol  Ing  yi-y  xi-x     SSxy    SSxx    Pred  residual   SSres   SSexpl  \\\n",
       "0    25   10 -46.3 -23.8  1101.94  566.44   24.40      0.60    0.36  2199.61   \n",
       "1    55   18 -16.3 -15.8   257.54  249.64     NaN       NaN     NaN      NaN   \n",
       "2    50   25 -21.3  -8.8   187.44   77.44     NaN       NaN     NaN      NaN   \n",
       "3    75   40   3.7   6.2    22.94   38.44     NaN       NaN     NaN      NaN   \n",
       "4   110   50  38.7  16.2   626.94  262.44     NaN       NaN     NaN      NaN   \n",
       "5   138   63  66.7  29.2  1947.64  852.64     NaN       NaN     NaN      NaN   \n",
       "6    90   42  18.7   8.2   153.34   67.24     NaN       NaN     NaN      NaN   \n",
       "7    60   30 -11.3  -3.8    42.94   14.44     NaN       NaN     NaN      NaN   \n",
       "8    10    5 -61.3 -28.8  1765.44  829.44     NaN       NaN     NaN      NaN   \n",
       "9   100   55  28.7  21.2   608.44  449.44  113.05    -13.05  170.30  1743.06   \n",
       "\n",
       "   SSyy=SStot  \n",
       "0     2143.69  \n",
       "1         NaN  \n",
       "2         NaN  \n",
       "3         NaN  \n",
       "4         NaN  \n",
       "5         NaN  \n",
       "6         NaN  \n",
       "7         NaN  \n",
       "8         NaN  \n",
       "9      823.69  "
      ]
     },
     "execution_count": 84,
     "metadata": {},
     "output_type": "execute_result"
    }
   ],
   "source": [
    "df"
   ]
  },
  {
   "cell_type": "markdown",
   "metadata": {},
   "source": [
    "####d) confirm the following by filling in the table (some crazy summation)"
   ]
  },
  {
   "cell_type": "code",
   "execution_count": null,
   "metadata": {
    "collapsed": false
   },
   "outputs": [
    {
     "name": "stdout",
     "output_type": "stream",
     "text": [
      "sum_ssxy: 6714.6\n",
      "sum_ssxx: 3407.6\n"
     ]
    }
   ],
   "source": [
    "sum_ssxy = df['SSxy'].sum()\n",
    "sum_ssxx = df['SSxx'].sum()\n",
    "print \"sum_ssxy: \" + str(sum_ssxy)\n",
    "print \"sum_ssxx: \" + str(sum_ssxx)"
   ]
  },
  {
   "cell_type": "markdown",
   "metadata": {},
   "source": [
    "####d) Confirm the following computation of the regression coefficients: beta1 = 1.97, beta0 = 4.70"
   ]
  },
  {
   "cell_type": "code",
   "execution_count": null,
   "metadata": {
    "collapsed": false
   },
   "outputs": [
    {
     "name": "stdout",
     "output_type": "stream",
     "text": [
      "beta1: 1.97047775561\n"
     ]
    }
   ],
   "source": [
    "beta1 = sum_ssxy/sum_ssxx\n",
    "print \"beta1: \" + str(beta1)"
   ]
  },
  {
   "cell_type": "code",
   "execution_count": null,
   "metadata": {
    "collapsed": false
   },
   "outputs": [],
   "source": [
    "beta0 = y_bar - beta1 * x_bar"
   ]
  },
  {
   "cell_type": "code",
   "execution_count": null,
   "metadata": {
    "collapsed": false
   },
   "outputs": [
    {
     "name": "stdout",
     "output_type": "stream",
     "text": [
      "beta0: 4.69785186055\n"
     ]
    }
   ],
   "source": [
    "print \"beta0: \" + str(beta0)"
   ]
  },
  {
   "cell_type": "markdown",
   "metadata": {},
   "source": [
    "####e) write out the regression line:"
   ]
  },
  {
   "cell_type": "raw",
   "metadata": {},
   "source": [
    "y = 1.97x + 4.70"
   ]
  },
  {
   "cell_type": "markdown",
   "metadata": {},
   "source": [
    "###Part 2"
   ]
  },
  {
   "cell_type": "markdown",
   "metadata": {},
   "source": [
    "####a) compute y-hat"
   ]
  },
  {
   "cell_type": "code",
   "execution_count": null,
   "metadata": {
    "collapsed": true
   },
   "outputs": [],
   "source": [
    "df['Pred'] = beta1*df['Ing']+beta0"
   ]
  },
  {
   "cell_type": "markdown",
   "metadata": {},
   "source": [
    "####b) compute residual"
   ]
  },
  {
   "cell_type": "code",
   "execution_count": null,
   "metadata": {
    "collapsed": true
   },
   "outputs": [],
   "source": [
    "df['residual'] = df['SVol'] - df['Pred']"
   ]
  },
  {
   "cell_type": "markdown",
   "metadata": {},
   "source": [
    "####c) compute SSres which is Residual Sum of Squares. aka SSe, Error Sum of Squares"
   ]
  },
  {
   "cell_type": "code",
   "execution_count": null,
   "metadata": {
    "collapsed": true
   },
   "outputs": [],
   "source": [
    "df['SSres'] = df['residual']**2"
   ]
  },
  {
   "cell_type": "markdown",
   "metadata": {},
   "source": [
    "####d) Compute SSexpl (Explained Sum of Squares or SSreg, Regression Sum of Squares)"
   ]
  },
  {
   "cell_type": "code",
   "execution_count": null,
   "metadata": {
    "collapsed": true
   },
   "outputs": [],
   "source": [
    "df['SSexpl'] = (df['Pred'] - y_bar)**2"
   ]
  },
  {
   "cell_type": "markdown",
   "metadata": {},
   "source": [
    "####e) Compute SSyy (SStot), Total Sum of Squares"
   ]
  },
  {
   "cell_type": "code",
   "execution_count": null,
   "metadata": {
    "collapsed": true
   },
   "outputs": [],
   "source": [
    "df['SSyy=SStot'] = (df['SVol'] - y_bar)**2"
   ]
  },
  {
   "cell_type": "code",
   "execution_count": null,
   "metadata": {
    "collapsed": false
   },
   "outputs": [],
   "source": [
    "R2 = df['SSexpl']/df['SSyy=SStot']"
   ]
  },
  {
   "cell_type": "code",
   "execution_count": null,
   "metadata": {
    "collapsed": false
   },
   "outputs": [
    {
     "data": {
      "text/plain": [
       "0     1.025971\n",
       "1     3.648229\n",
       "2     0.662749\n",
       "3    10.902422\n",
       "4     0.680379\n",
       "5     0.744144\n",
       "6     0.746599\n",
       "7     0.439090\n",
       "8     0.857052\n",
       "9     2.118610\n",
       "dtype: float64"
      ]
     },
     "execution_count": 95,
     "metadata": {},
     "output_type": "execute_result"
    }
   ],
   "source": [
    "R2"
   ]
  },
  {
   "cell_type": "code",
   "execution_count": null,
   "metadata": {
    "collapsed": false
   },
   "outputs": [],
   "source": [
    "df"
   ]
  },
  {
   "cell_type": "code",
   "execution_count": null,
   "metadata": {
    "collapsed": false
   },
   "outputs": [],
   "source": [
    "print df['SSyy=SStot'].mean()"
   ]
  },
  {
   "cell_type": "code",
   "execution_count": null,
   "metadata": {
    "collapsed": true
   },
   "outputs": [],
   "source": [
    "r2 = df['SSexpl'].mean()/df['SSyy=SStot'].mean()"
   ]
  },
  {
   "cell_type": "code",
   "execution_count": null,
   "metadata": {
    "collapsed": false
   },
   "outputs": [],
   "source": [
    "r2"
   ]
  },
  {
   "cell_type": "markdown",
   "metadata": {},
   "source": [
    "###Part 3: Compute F statistic and perform hypothesis test"
   ]
  },
  {
   "cell_type": "markdown",
   "metadata": {},
   "source": [
    "####a) State the null and alternative hypothesis"
   ]
  },
  {
   "cell_type": "raw",
   "metadata": {},
   "source": [
    "H0: beta1 = 0\n",
    "H1: beta1 != 0"
   ]
  },
  {
   "cell_type": "markdown",
   "metadata": {},
   "source": [
    "####b) Compute the degrees of freedom"
   ]
  },
  {
   "cell_type": "code",
   "execution_count": null,
   "metadata": {
    "collapsed": true
   },
   "outputs": [],
   "source": [
    "n = 10\n",
    "p = 2"
   ]
  },
  {
   "cell_type": "code",
   "execution_count": null,
   "metadata": {
    "collapsed": true
   },
   "outputs": [],
   "source": [
    "df_expl = p-1\n",
    "df_res = n-p"
   ]
  },
  {
   "cell_type": "markdown",
   "metadata": {},
   "source": [
    "####c) Compute the F test statistic"
   ]
  },
  {
   "cell_type": "code",
   "execution_count": null,
   "metadata": {
    "collapsed": true
   },
   "outputs": [],
   "source": [
    "ssexpl = df['SSexpl'].mean()\n",
    "ssres = df['SSres'].mean()"
   ]
  },
  {
   "cell_type": "code",
   "execution_count": null,
   "metadata": {
    "collapsed": true
   },
   "outputs": [],
   "source": [
    "Fteststat = (ssexpl/df_expl)/(ssres/df_res)"
   ]
  },
  {
   "cell_type": "code",
   "execution_count": null,
   "metadata": {
    "collapsed": false
   },
   "outputs": [],
   "source": [
    "print Fteststat\n",
    "print (13224.6/1) / (651.13/8)"
   ]
  },
  {
   "cell_type": "code",
   "execution_count": null,
   "metadata": {
    "collapsed": false
   },
   "outputs": [],
   "source": [
    "Fteststat_rounded = (\"%.1f\") % Fteststat"
   ]
  },
  {
   "cell_type": "code",
   "execution_count": null,
   "metadata": {
    "collapsed": false
   },
   "outputs": [],
   "source": [
    "Fteststat_rounded = float(Fteststat_rounded)"
   ]
  },
  {
   "cell_type": "code",
   "execution_count": null,
   "metadata": {
    "collapsed": false,
    "scrolled": true
   },
   "outputs": [],
   "source": [
    "Fteststat_rounded"
   ]
  },
  {
   "cell_type": "markdown",
   "metadata": {},
   "source": [
    "#### d) compute f critical"
   ]
  },
  {
   "cell_type": "markdown",
   "metadata": {},
   "source": [
    "I have no idea how to do this so I'm just taking from this website:<br> 'http://www.socr.ucla.edu/applets.dir/f_table.html'<br>\n",
    "It said that Fcritical(0.05, 1, 8) = 5.3177"
   ]
  },
  {
   "cell_type": "code",
   "execution_count": null,
   "metadata": {
    "collapsed": true
   },
   "outputs": [],
   "source": [
    "Fcritical = 5.3177"
   ]
  },
  {
   "cell_type": "markdown",
   "metadata": {},
   "source": [
    "####e) test the hypothesis"
   ]
  },
  {
   "cell_type": "code",
   "execution_count": null,
   "metadata": {
    "collapsed": false
   },
   "outputs": [],
   "source": [
    "print Fteststat_rounded > Fcritical"
   ]
  },
  {
   "cell_type": "markdown",
   "metadata": {},
   "source": [
    "Since the Fteststat_rounded > Fcritical, we reject the null hypothesis that the slope is 0. "
   ]
  },
  {
   "cell_type": "markdown",
   "metadata": {
    "collapsed": true
   },
   "source": [
    "###Part 4: Using regression model for prediction"
   ]
  },
  {
   "cell_type": "raw",
   "metadata": {},
   "source": [
    "y = 4.7 + 1.97x"
   ]
  },
  {
   "cell_type": "markdown",
   "metadata": {},
   "source": [
    "predicted y:"
   ]
  },
  {
   "cell_type": "code",
   "execution_count": null,
   "metadata": {
    "collapsed": false
   },
   "outputs": [],
   "source": [
    "yhat = 4.7 + 1.97*(15)"
   ]
  },
  {
   "cell_type": "code",
   "execution_count": null,
   "metadata": {
    "collapsed": true
   },
   "outputs": [],
   "source": [
    "tcrit = 2.306"
   ]
  },
  {
   "cell_type": "code",
   "execution_count": null,
   "metadata": {
    "collapsed": false
   },
   "outputs": [],
   "source": [
    "stder = np.sqrt(81.3912)*np.sqrt(.1 + (15-33.8)**2/((10-1)*(3407.6)))"
   ]
  },
  {
   "cell_type": "code",
   "execution_count": null,
   "metadata": {
    "collapsed": false
   },
   "outputs": [],
   "source": [
    "print \"95% CI for yhat = 34.25 when x = 15 is (\" + str(yhat-tcrit*stder) + \", \" + str(yhat+tcrit*stder) + \")\""
   ]
  },
  {
   "cell_type": "markdown",
   "metadata": {},
   "source": [
    "###Part 5: Examining the programming output"
   ]
  },
  {
   "cell_type": "markdown",
   "metadata": {},
   "source": [
    "#### In R regression output t= 12.750. F-Stat is 162. Notice that in simple linear regression, t^2 = F."
   ]
  },
  {
   "cell_type": "code",
   "execution_count": null,
   "metadata": {
    "collapsed": false
   },
   "outputs": [],
   "source": [
    "12.75**2"
   ]
  },
  {
   "cell_type": "code",
   "execution_count": null,
   "metadata": {
    "collapsed": false
   },
   "outputs": [],
   "source": [
    "print stder"
   ]
  },
  {
   "cell_type": "code",
   "execution_count": null,
   "metadata": {
    "collapsed": true
   },
   "outputs": [],
   "source": [
    "ci = tcrit*stder"
   ]
  },
  {
   "cell_type": "code",
   "execution_count": null,
   "metadata": {
    "collapsed": false,
    "scrolled": true
   },
   "outputs": [],
   "source": [
    "print 9.39003/tcrit\n",
    "print ci\n",
    "\n",
    "print 34.25502-24.86499\n",
    "print 43.64505-34.25502"
   ]
  },
  {
   "cell_type": "raw",
   "metadata": {},
   "source": [
    "No my prediction intervals do not match. I have a confidence interval of 6.94 and the confidence interval printed is 9.39"
   ]
  },
  {
   "cell_type": "markdown",
   "metadata": {},
   "source": [
    "Sum Sq of Regression is 651.1"
   ]
  },
  {
   "cell_type": "markdown",
   "metadata": {},
   "source": [
    "Sum Sq is 13231"
   ]
  },
  {
   "cell_type": "markdown",
   "metadata": {},
   "source": [
    "Residual Standard Error: 9.022 on 8 DOF"
   ]
  },
  {
   "cell_type": "markdown",
   "metadata": {},
   "source": [
    "Min and Max residuals are the same as those I calculated!"
   ]
  }
 ],
 "metadata": {
  "kernelspec": {
   "display_name": "Python 2",
   "language": "python",
   "name": "python2"
  },
  "language_info": {
   "codemirror_mode": {
    "name": "ipython",
    "version": 2
   },
   "file_extension": ".py",
   "mimetype": "text/x-python",
   "name": "python",
   "nbconvert_exporter": "python",
   "pygments_lexer": "ipython2",
   "version": "2.7.11"
  }
 },
 "nbformat": 4,
 "nbformat_minor": 0
}
